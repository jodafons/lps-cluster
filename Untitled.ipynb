{
 "cells": [
  {
   "cell_type": "code",
   "execution_count": 8,
   "id": "d83cf28a-b574-4d5d-90ef-f7f8a7a95908",
   "metadata": {},
   "outputs": [],
   "source": [
    "from proxmoxer import ProxmoxAPI\n",
    "password=\"6sJ09066sV1990;6\""
   ]
  },
  {
   "cell_type": "code",
   "execution_count": 34,
   "id": "f1fc5f8b-5eab-43b0-b4fe-601c2a12bb3e",
   "metadata": {},
   "outputs": [
    {
     "name": "stderr",
     "output_type": "stream",
     "text": [
      "/Users/jodafons/Desktop/lps-cluster/lps-cluster-env/lib/python3.10/site-packages/urllib3/connectionpool.py:1099: InsecureRequestWarning: Unverified HTTPS request is being made to host 'caloba-v09.lps.ufrj.br'. Adding certificate verification is strongly advised. See: https://urllib3.readthedocs.io/en/latest/advanced-usage.html#tls-warnings\n",
      "  warnings.warn(\n"
     ]
    }
   ],
   "source": [
    "proxmox = ProxmoxAPI(\"caloba-v09.lps.ufrj.br\", user='root@pam',password=password, verify_ssl=False )"
   ]
  },
  {
   "cell_type": "code",
   "execution_count": 32,
   "id": "74e40168-1c62-4255-ac3d-6e8b6e8559e9",
   "metadata": {},
   "outputs": [
    {
     "name": "stderr",
     "output_type": "stream",
     "text": [
      "/Users/jodafons/Desktop/lps-cluster/lps-cluster-env/lib/python3.10/site-packages/urllib3/connectionpool.py:1099: InsecureRequestWarning: Unverified HTTPS request is being made to host 'caloba-v09.lps.ufrj.br'. Adding certificate verification is strongly advised. See: https://urllib3.readthedocs.io/en/latest/advanced-usage.html#tls-warnings\n",
      "  warnings.warn(\n"
     ]
    }
   ],
   "source": [
    "nodes=server.nodes.get()"
   ]
  },
  {
   "cell_type": "code",
   "execution_count": 35,
   "id": "49757557-17aa-4f56-b3e6-2ef6a82c245c",
   "metadata": {},
   "outputs": [
    {
     "name": "stderr",
     "output_type": "stream",
     "text": [
      "/Users/jodafons/Desktop/lps-cluster/lps-cluster-env/lib/python3.10/site-packages/urllib3/connectionpool.py:1099: InsecureRequestWarning: Unverified HTTPS request is being made to host 'caloba-v09.lps.ufrj.br'. Adding certificate verification is strongly advised. See: https://urllib3.readthedocs.io/en/latest/advanced-usage.html#tls-warnings\n",
      "  warnings.warn(\n",
      "/Users/jodafons/Desktop/lps-cluster/lps-cluster-env/lib/python3.10/site-packages/urllib3/connectionpool.py:1099: InsecureRequestWarning: Unverified HTTPS request is being made to host 'caloba-v09.lps.ufrj.br'. Adding certificate verification is strongly advised. See: https://urllib3.readthedocs.io/en/latest/advanced-usage.html#tls-warnings\n",
      "  warnings.warn(\n"
     ]
    },
    {
     "name": "stdout",
     "output_type": "stream",
     "text": [
      "295. caloba95 => running\n",
      "294. caloba94 => running\n",
      "290. caloba90 => running\n",
      "291. caloba91 => running\n",
      "296. caloba96 => running\n",
      "293. caloba93 => running\n",
      "292. caloba92 => running\n"
     ]
    },
    {
     "name": "stderr",
     "output_type": "stream",
     "text": [
      "/Users/jodafons/Desktop/lps-cluster/lps-cluster-env/lib/python3.10/site-packages/urllib3/connectionpool.py:1099: InsecureRequestWarning: Unverified HTTPS request is being made to host 'caloba-v09.lps.ufrj.br'. Adding certificate verification is strongly advised. See: https://urllib3.readthedocs.io/en/latest/advanced-usage.html#tls-warnings\n",
      "  warnings.warn(\n",
      "/Users/jodafons/Desktop/lps-cluster/lps-cluster-env/lib/python3.10/site-packages/urllib3/connectionpool.py:1099: InsecureRequestWarning: Unverified HTTPS request is being made to host 'caloba-v09.lps.ufrj.br'. Adding certificate verification is strongly advised. See: https://urllib3.readthedocs.io/en/latest/advanced-usage.html#tls-warnings\n",
      "  warnings.warn(\n",
      "/Users/jodafons/Desktop/lps-cluster/lps-cluster-env/lib/python3.10/site-packages/urllib3/connectionpool.py:1099: InsecureRequestWarning: Unverified HTTPS request is being made to host 'caloba-v09.lps.ufrj.br'. Adding certificate verification is strongly advised. See: https://urllib3.readthedocs.io/en/latest/advanced-usage.html#tls-warnings\n",
      "  warnings.warn(\n"
     ]
    }
   ],
   "source": [
    "for node in proxmox.nodes.get():\n",
    "    for vm in proxmox.nodes(node[\"node\"]).qemu.get():\n",
    "        print(f\"{vm['vmid']}. {vm['name']} => {vm['status']}\")"
   ]
  },
  {
   "cell_type": "code",
   "execution_count": null,
   "id": "225b9500-b9eb-416c-ba29-5c11eccbc7e5",
   "metadata": {},
   "outputs": [],
   "source": []
  },
  {
   "cell_type": "code",
   "execution_count": 15,
   "id": "304b0276-6d35-4a2f-8b8a-841981823f54",
   "metadata": {},
   "outputs": [
    {
     "name": "stdout",
     "output_type": "stream",
     "text": [
      "Collecting paramiko\n",
      "  Downloading paramiko-3.4.0-py3-none-any.whl.metadata (4.4 kB)\n",
      "Collecting bcrypt>=3.2 (from paramiko)\n",
      "  Downloading bcrypt-4.1.2-cp39-abi3-macosx_10_12_universal2.whl.metadata (9.5 kB)\n",
      "Requirement already satisfied: cryptography>=3.3 in ./lps-cluster-env/lib/python3.10/site-packages (from paramiko) (42.0.1)\n",
      "Collecting pynacl>=1.5 (from paramiko)\n",
      "  Downloading PyNaCl-1.5.0-cp36-abi3-macosx_10_10_universal2.whl (349 kB)\n",
      "\u001b[2K     \u001b[38;2;114;156;31m━━━━━━━━━━━━━━━━━━━━━━━━━━━━━━━━━━━━━━━\u001b[0m \u001b[32m349.9/349.9 kB\u001b[0m \u001b[31m2.5 MB/s\u001b[0m eta \u001b[36m0:00:00\u001b[0m[31m2.3 MB/s\u001b[0m eta \u001b[36m0:00:01\u001b[0m\n",
      "\u001b[?25hRequirement already satisfied: cffi>=1.12 in ./lps-cluster-env/lib/python3.10/site-packages (from cryptography>=3.3->paramiko) (1.16.0)\n",
      "Requirement already satisfied: pycparser in ./lps-cluster-env/lib/python3.10/site-packages (from cffi>=1.12->cryptography>=3.3->paramiko) (2.21)\n",
      "Downloading paramiko-3.4.0-py3-none-any.whl (225 kB)\n",
      "\u001b[2K   \u001b[38;2;114;156;31m━━━━━━━━━━━━━━━━━━━━━━━━━━━━━━━━━━━━━━━━\u001b[0m \u001b[32m225.9/225.9 kB\u001b[0m \u001b[31m5.2 MB/s\u001b[0m eta \u001b[36m0:00:00\u001b[0mm eta \u001b[36m0:00:01\u001b[0m\n",
      "\u001b[?25hDownloading bcrypt-4.1.2-cp39-abi3-macosx_10_12_universal2.whl (528 kB)\n",
      "\u001b[2K   \u001b[38;2;114;156;31m━━━━━━━━━━━━━━━━━━━━━━━━━━━━━━━━━━━━━━━━\u001b[0m \u001b[32m528.5/528.5 kB\u001b[0m \u001b[31m5.8 MB/s\u001b[0m eta \u001b[36m0:00:00\u001b[0m[31m6.6 MB/s\u001b[0m eta \u001b[36m0:00:01\u001b[0m\n",
      "\u001b[?25hInstalling collected packages: bcrypt, pynacl, paramiko\n",
      "Successfully installed bcrypt-4.1.2 paramiko-3.4.0 pynacl-1.5.0\n"
     ]
    }
   ],
   "source": [
    "!pip install paramiko"
   ]
  },
  {
   "cell_type": "code",
   "execution_count": 19,
   "id": "7bf81ac6-5d69-4f3b-9cb8-f297112e106d",
   "metadata": {},
   "outputs": [],
   "source": [
    "import paramiko\n",
    "ssh = paramiko.SSHClient()\n",
    "ssh.set_missing_host_key_policy(paramiko.AutoAddPolicy())"
   ]
  },
  {
   "cell_type": "code",
   "execution_count": 20,
   "id": "a3e6173a-7d95-4e12-b6ee-12736d61a5ed",
   "metadata": {},
   "outputs": [],
   "source": [
    "ssh.connect(\"caloba-v09.lps.ufrj.br\",username=\"root\",password=password)"
   ]
  },
  {
   "cell_type": "code",
   "execution_count": 27,
   "id": "86af871d-3862-4511-9ec5-27385e684d05",
   "metadata": {},
   "outputs": [],
   "source": [
    "i,o,e=ssh.exec_command(\"pve -h\")"
   ]
  },
  {
   "cell_type": "code",
   "execution_count": 28,
   "id": "29789b0b-d6b9-4996-82a3-89bd8af349b2",
   "metadata": {},
   "outputs": [
    {
     "data": {
      "text/plain": [
       "[]"
      ]
     },
     "execution_count": 28,
     "metadata": {},
     "output_type": "execute_result"
    }
   ],
   "source": [
    "o.readlines()"
   ]
  },
  {
   "cell_type": "code",
   "execution_count": null,
   "id": "31b121eb-fffa-41b1-a8c7-a44b791ad0f7",
   "metadata": {},
   "outputs": [],
   "source": []
  }
 ],
 "metadata": {
  "kernelspec": {
   "display_name": "Python 3 (ipykernel)",
   "language": "python",
   "name": "python3"
  },
  "language_info": {
   "codemirror_mode": {
    "name": "ipython",
    "version": 3
   },
   "file_extension": ".py",
   "mimetype": "text/x-python",
   "name": "python",
   "nbconvert_exporter": "python",
   "pygments_lexer": "ipython3",
   "version": "3.10.11"
  }
 },
 "nbformat": 4,
 "nbformat_minor": 5
}
